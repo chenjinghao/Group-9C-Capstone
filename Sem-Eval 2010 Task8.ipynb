{
  "cells": [
    {
      "cell_type": "markdown",
      "metadata": {
        "id": "view-in-github",
        "colab_type": "text"
      },
      "source": [
        "<a href=\"https://colab.research.google.com/github/chenjinghao/Group-9C-Capstone/blob/main/Sem-Eval%202010%20Task8.ipynb\" target=\"_parent\"><img src=\"https://colab.research.google.com/assets/colab-badge.svg\" alt=\"Open In Colab\"/></a>"
      ]
    },
    {
      "cell_type": "markdown",
      "metadata": {
        "id": "zH9XHxIUfZoz"
      },
      "source": [
        "## Group 9C SGUS NUS Capstone Project 2022 \n",
        "### Improve Demand Forecasting through Natural Language Processing for Panasonic\n",
        "\n",
        "The objective of the project is to develop a technology to detect cause-effect relationship from news corpora using Lexicon based relation identification\n",
        "\n",
        "Methodology: \n",
        "1.   Data Preparation\n",
        "2.   Model Training\n",
        "3. Model Optimisation\n",
        "4. Model Evaluation\n"
      ]
    },
    {
      "cell_type": "markdown",
      "metadata": {
        "id": "LouM1Qu8fZo4"
      },
      "source": [
        "## Step 1: Data preparation\n",
        "\n",
        "#### Data set suggested by Panasonic for this exercise is from https://www.kaggle.com/datasets/drtoshi/semeval2010-task-8-dataset\n",
        "\n",
        "Data set comes with predefined labels e1 and e2, not limited to just cause-effect"
      ]
    },
    {
      "cell_type": "markdown",
      "metadata": {
        "id": "6faJ66RUfZo4"
      },
      "source": [
        "#### Python libraries used\n",
        "\n",
        "Panda - Data analysis manipulation library for Python\n",
        "\n",
        "Numpy - Mathematical operations over arrays"
      ]
    },
    {
      "cell_type": "code",
      "execution_count": 57,
      "metadata": {
        "id": "BD5AQdxpfZo5"
      },
      "outputs": [],
      "source": [
        "import pandas as pd        #data analysis and manipulation library for Python\n",
        "import numpy as np         #mathematical operations over arrays\n",
        "\n",
        "#Global variables\n",
        "train_data = []            #sentence for training with labels \n",
        "train_target = []          #labels for training data\n",
        "test_data = []             #sentence for testing with labels  \n",
        "test_target = []           #labels for testing data"
      ]
    },
    {
      "cell_type": "markdown",
      "metadata": {
        "id": "bqkeBYJafZo6"
      },
      "source": [
        "#### Create data frames"
      ]
    },
    {
      "cell_type": "code",
      "execution_count": 58,
      "metadata": {
        "id": "SN8fL2lUfZo7"
      },
      "outputs": [],
      "source": [
        "#Import files into a dataframe\n",
        "def import_text(file_txt):\n",
        "    \n",
        "    colnames=['ID', 'Text'] \n",
        "    \n",
        "    df = pd.read_csv(file_txt\n",
        "                       ,skip_blank_lines=True   #input files have emplty lines\n",
        "                       ,header=None             #no haeders\n",
        "                       ,sep='\\t'                #tab delimited\n",
        "                       ,engine='python'         #engine\n",
        "                       ,quotechar='^'           #if there are doublequotes in the text\n",
        "                       ,comment='Comment:'      #this is for human reader, we don't need\n",
        "                       ,names=colnames          #preset columns we need\n",
        "                      )\n",
        "    print(\"Number of rows: \", len(df.index))\n",
        "\n",
        "    return df"
      ]
    },
    {
      "cell_type": "code",
      "execution_count": 59,
      "metadata": {
        "id": "BhAy3P2nfZo7"
      },
      "outputs": [],
      "source": [
        "#clean \"\"\n",
        "def clean_doublequotes(df):\n",
        "    return df.replace('\"', '', regex=True)"
      ]
    },
    {
      "cell_type": "code",
      "execution_count": 60,
      "metadata": {
        "id": "3DutIS0WfZo8"
      },
      "outputs": [],
      "source": [
        "#clean tags e.g. (e2,e1) - to check why?\n",
        "def clean_tags(df_column,braket_type):\n",
        "    \n",
        "    if braket_type == 'angle':\n",
        "        pattern = r'<.*?>'\n",
        "    elif braket_type == 'round':\n",
        "        pattern = r'(\\(.*?\\))'\n",
        "    else:\n",
        "        raise Exception(\"angle or round\")\n",
        "    \n",
        "    return df_column.str.replace(pattern, '', regex=True)"
      ]
    },
    {
      "cell_type": "code",
      "execution_count": 61,
      "metadata": {
        "id": "nUvdTWnpfZo8"
      },
      "outputs": [],
      "source": [
        "#create tuple of keys\n",
        "keys = ('Other','Cause-Effect','Product-Producer','Entity-Origin','Instrument-Agency','Component-Whole','Content-Container','Entity-Destination','Member-Collection','Message-Topic')\n",
        "#for i in range(len(keys)): print(i, keys[i])"
      ]
    },
    {
      "cell_type": "code",
      "execution_count": 62,
      "metadata": {
        "id": "aPhAUC3sfZo9"
      },
      "outputs": [],
      "source": [
        "def prepare_file(file_name,use):\n",
        "    \n",
        "    #Import training file into a dataframe\n",
        "    df = import_text(file_name)\n",
        "\n",
        "    #clean \"\"\n",
        "    df = clean_doublequotes(df)\n",
        "\n",
        "    # combine rows 1&2\n",
        "    df['Clasification'] = df['ID'].shift(-1)\n",
        "\n",
        "    #remove leftover rows\n",
        "    df = df[df.Text.notna()]\n",
        "\n",
        "    #clean tags e.g. <e2> - better option would be to keep them and use for more precise prediction\n",
        "    df.Text = clean_tags(df.Text,braket_type='angle')\n",
        "\n",
        "    #clean tags e.g. (e2,e1) - better option would be to keep them and use for more precise prediction\n",
        "    df.Clasification = clean_tags(df.Clasification,braket_type='round')\n",
        "\n",
        "    #Map Keys to numbers\n",
        "    df['Clasification_ID'] = df.Clasification.map(lambda x: keys.index(x))\n",
        "\n",
        "    #to use in thes same file\n",
        "    if use == 'train':\n",
        "        global train_data\n",
        "        train_data = df.Text\n",
        "        \n",
        "        global train_target\n",
        "        train_target = df.Clasification_ID\n",
        "    elif use == 'test':\n",
        "        global test_data\n",
        "        test_data = df.Text\n",
        "        \n",
        "        global test_target\n",
        "        test_target = df.Clasification_ID\n",
        "\n",
        "    #check\n",
        "    print('Output rows:', len(df.index))\n",
        "  \n",
        "    return df"
      ]
    },
    {
      "cell_type": "markdown",
      "metadata": {
        "id": "phU_rFKmfZo-"
      },
      "source": [
        "#### Prepare Training file"
      ]
    },
    {
      "cell_type": "code",
      "source": [
        "from google.colab import drive\n",
        "drive.mount('/content/drive')"
      ],
      "metadata": {
        "id": "UZxmGdnAifwX",
        "outputId": "15a61ce6-eba5-41e0-90f6-79d7913a34dc",
        "colab": {
          "base_uri": "https://localhost:8080/"
        }
      },
      "execution_count": 63,
      "outputs": [
        {
          "output_type": "stream",
          "name": "stdout",
          "text": [
            "Drive already mounted at /content/drive; to attempt to forcibly remount, call drive.mount(\"/content/drive\", force_remount=True).\n"
          ]
        }
      ]
    },
    {
      "cell_type": "code",
      "source": [
        "%cd /content/drive/MyDrive/Github/Group-9C-Capstone"
      ],
      "metadata": {
        "id": "R4a-XXTOi3MU",
        "outputId": "24b9175a-6487-44d5-cc10-88ec48e065c6",
        "colab": {
          "base_uri": "https://localhost:8080/"
        }
      },
      "execution_count": 64,
      "outputs": [
        {
          "output_type": "stream",
          "name": "stdout",
          "text": [
            "/content/drive/MyDrive/Github/Group-9C-Capstone\n"
          ]
        }
      ]
    },
    {
      "cell_type": "code",
      "execution_count": 65,
      "metadata": {
        "id": "gfCrY1xafZo-",
        "outputId": "1a20c316-54ae-4a47-8b14-2f7af3182f69",
        "colab": {
          "base_uri": "https://localhost:8080/",
          "height": 241
        }
      },
      "outputs": [
        {
          "output_type": "stream",
          "name": "stdout",
          "text": [
            "Number of rows:  16000\n",
            "Output rows: 8000\n"
          ]
        },
        {
          "output_type": "execute_result",
          "data": {
            "text/plain": [
              "  ID                                               Text      Clasification  \\\n",
              "0  1  The system as described above has its greatest...    Component-Whole   \n",
              "2  2  The child was carefully wrapped and bound into...              Other   \n",
              "4  3  The author of a keygen uses a disassembler to ...  Instrument-Agency   \n",
              "6  4              A misty ridge uprises from the surge.              Other   \n",
              "8  5  The student association is the voice of the un...  Member-Collection   \n",
              "\n",
              "   Clasification_ID  \n",
              "0                 5  \n",
              "2                 0  \n",
              "4                 4  \n",
              "6                 0  \n",
              "8                 8  "
            ],
            "text/html": [
              "\n",
              "  <div id=\"df-4dc9757e-432a-486f-8abb-474d0387f21d\">\n",
              "    <div class=\"colab-df-container\">\n",
              "      <div>\n",
              "<style scoped>\n",
              "    .dataframe tbody tr th:only-of-type {\n",
              "        vertical-align: middle;\n",
              "    }\n",
              "\n",
              "    .dataframe tbody tr th {\n",
              "        vertical-align: top;\n",
              "    }\n",
              "\n",
              "    .dataframe thead th {\n",
              "        text-align: right;\n",
              "    }\n",
              "</style>\n",
              "<table border=\"1\" class=\"dataframe\">\n",
              "  <thead>\n",
              "    <tr style=\"text-align: right;\">\n",
              "      <th></th>\n",
              "      <th>ID</th>\n",
              "      <th>Text</th>\n",
              "      <th>Clasification</th>\n",
              "      <th>Clasification_ID</th>\n",
              "    </tr>\n",
              "  </thead>\n",
              "  <tbody>\n",
              "    <tr>\n",
              "      <th>0</th>\n",
              "      <td>1</td>\n",
              "      <td>The system as described above has its greatest...</td>\n",
              "      <td>Component-Whole</td>\n",
              "      <td>5</td>\n",
              "    </tr>\n",
              "    <tr>\n",
              "      <th>2</th>\n",
              "      <td>2</td>\n",
              "      <td>The child was carefully wrapped and bound into...</td>\n",
              "      <td>Other</td>\n",
              "      <td>0</td>\n",
              "    </tr>\n",
              "    <tr>\n",
              "      <th>4</th>\n",
              "      <td>3</td>\n",
              "      <td>The author of a keygen uses a disassembler to ...</td>\n",
              "      <td>Instrument-Agency</td>\n",
              "      <td>4</td>\n",
              "    </tr>\n",
              "    <tr>\n",
              "      <th>6</th>\n",
              "      <td>4</td>\n",
              "      <td>A misty ridge uprises from the surge.</td>\n",
              "      <td>Other</td>\n",
              "      <td>0</td>\n",
              "    </tr>\n",
              "    <tr>\n",
              "      <th>8</th>\n",
              "      <td>5</td>\n",
              "      <td>The student association is the voice of the un...</td>\n",
              "      <td>Member-Collection</td>\n",
              "      <td>8</td>\n",
              "    </tr>\n",
              "  </tbody>\n",
              "</table>\n",
              "</div>\n",
              "      <button class=\"colab-df-convert\" onclick=\"convertToInteractive('df-4dc9757e-432a-486f-8abb-474d0387f21d')\"\n",
              "              title=\"Convert this dataframe to an interactive table.\"\n",
              "              style=\"display:none;\">\n",
              "        \n",
              "  <svg xmlns=\"http://www.w3.org/2000/svg\" height=\"24px\"viewBox=\"0 0 24 24\"\n",
              "       width=\"24px\">\n",
              "    <path d=\"M0 0h24v24H0V0z\" fill=\"none\"/>\n",
              "    <path d=\"M18.56 5.44l.94 2.06.94-2.06 2.06-.94-2.06-.94-.94-2.06-.94 2.06-2.06.94zm-11 1L8.5 8.5l.94-2.06 2.06-.94-2.06-.94L8.5 2.5l-.94 2.06-2.06.94zm10 10l.94 2.06.94-2.06 2.06-.94-2.06-.94-.94-2.06-.94 2.06-2.06.94z\"/><path d=\"M17.41 7.96l-1.37-1.37c-.4-.4-.92-.59-1.43-.59-.52 0-1.04.2-1.43.59L10.3 9.45l-7.72 7.72c-.78.78-.78 2.05 0 2.83L4 21.41c.39.39.9.59 1.41.59.51 0 1.02-.2 1.41-.59l7.78-7.78 2.81-2.81c.8-.78.8-2.07 0-2.86zM5.41 20L4 18.59l7.72-7.72 1.47 1.35L5.41 20z\"/>\n",
              "  </svg>\n",
              "      </button>\n",
              "      \n",
              "  <style>\n",
              "    .colab-df-container {\n",
              "      display:flex;\n",
              "      flex-wrap:wrap;\n",
              "      gap: 12px;\n",
              "    }\n",
              "\n",
              "    .colab-df-convert {\n",
              "      background-color: #E8F0FE;\n",
              "      border: none;\n",
              "      border-radius: 50%;\n",
              "      cursor: pointer;\n",
              "      display: none;\n",
              "      fill: #1967D2;\n",
              "      height: 32px;\n",
              "      padding: 0 0 0 0;\n",
              "      width: 32px;\n",
              "    }\n",
              "\n",
              "    .colab-df-convert:hover {\n",
              "      background-color: #E2EBFA;\n",
              "      box-shadow: 0px 1px 2px rgba(60, 64, 67, 0.3), 0px 1px 3px 1px rgba(60, 64, 67, 0.15);\n",
              "      fill: #174EA6;\n",
              "    }\n",
              "\n",
              "    [theme=dark] .colab-df-convert {\n",
              "      background-color: #3B4455;\n",
              "      fill: #D2E3FC;\n",
              "    }\n",
              "\n",
              "    [theme=dark] .colab-df-convert:hover {\n",
              "      background-color: #434B5C;\n",
              "      box-shadow: 0px 1px 3px 1px rgba(0, 0, 0, 0.15);\n",
              "      filter: drop-shadow(0px 1px 2px rgba(0, 0, 0, 0.3));\n",
              "      fill: #FFFFFF;\n",
              "    }\n",
              "  </style>\n",
              "\n",
              "      <script>\n",
              "        const buttonEl =\n",
              "          document.querySelector('#df-4dc9757e-432a-486f-8abb-474d0387f21d button.colab-df-convert');\n",
              "        buttonEl.style.display =\n",
              "          google.colab.kernel.accessAllowed ? 'block' : 'none';\n",
              "\n",
              "        async function convertToInteractive(key) {\n",
              "          const element = document.querySelector('#df-4dc9757e-432a-486f-8abb-474d0387f21d');\n",
              "          const dataTable =\n",
              "            await google.colab.kernel.invokeFunction('convertToInteractive',\n",
              "                                                     [key], {});\n",
              "          if (!dataTable) return;\n",
              "\n",
              "          const docLinkHtml = 'Like what you see? Visit the ' +\n",
              "            '<a target=\"_blank\" href=https://colab.research.google.com/notebooks/data_table.ipynb>data table notebook</a>'\n",
              "            + ' to learn more about interactive tables.';\n",
              "          element.innerHTML = '';\n",
              "          dataTable['output_type'] = 'display_data';\n",
              "          await google.colab.output.renderOutput(dataTable, element);\n",
              "          const docLink = document.createElement('div');\n",
              "          docLink.innerHTML = docLinkHtml;\n",
              "          element.appendChild(docLink);\n",
              "        }\n",
              "      </script>\n",
              "    </div>\n",
              "  </div>\n",
              "  "
            ]
          },
          "metadata": {},
          "execution_count": 65
        }
      ],
      "source": [
        "#prepare file\n",
        "df_train = prepare_file('semeval2010task8_train.txt','train')\n",
        "\n",
        "df_train.head(5)"
      ]
    },
    {
      "cell_type": "code",
      "execution_count": 66,
      "metadata": {
        "id": "jAKtE8LKfZo_",
        "outputId": "b634c5b9-71f7-4e2a-8f56-55d23eaac77c",
        "colab": {
          "base_uri": "https://localhost:8080/",
          "height": 241
        }
      },
      "outputs": [
        {
          "output_type": "stream",
          "name": "stdout",
          "text": [
            "Number of rows:  5434\n",
            "Output rows: 2717\n"
          ]
        },
        {
          "output_type": "execute_result",
          "data": {
            "text/plain": [
              "     ID                                               Text  \\\n",
              "0  8001  The most common audits were about waste and re...   \n",
              "2  8002             The company fabricates plastic chairs.   \n",
              "4  8003  The school master teaches the lesson with a st...   \n",
              "6  8004  The suspect dumped the dead body into a local ...   \n",
              "8  8005  Avian influenza is an infectious disease of bi...   \n",
              "\n",
              "        Clasification  Clasification_ID  \n",
              "0       Message-Topic                 9  \n",
              "2    Product-Producer                 2  \n",
              "4   Instrument-Agency                 4  \n",
              "6  Entity-Destination                 7  \n",
              "8        Cause-Effect                 1  "
            ],
            "text/html": [
              "\n",
              "  <div id=\"df-212621d2-8591-4431-bb0b-317f8d1dbc0a\">\n",
              "    <div class=\"colab-df-container\">\n",
              "      <div>\n",
              "<style scoped>\n",
              "    .dataframe tbody tr th:only-of-type {\n",
              "        vertical-align: middle;\n",
              "    }\n",
              "\n",
              "    .dataframe tbody tr th {\n",
              "        vertical-align: top;\n",
              "    }\n",
              "\n",
              "    .dataframe thead th {\n",
              "        text-align: right;\n",
              "    }\n",
              "</style>\n",
              "<table border=\"1\" class=\"dataframe\">\n",
              "  <thead>\n",
              "    <tr style=\"text-align: right;\">\n",
              "      <th></th>\n",
              "      <th>ID</th>\n",
              "      <th>Text</th>\n",
              "      <th>Clasification</th>\n",
              "      <th>Clasification_ID</th>\n",
              "    </tr>\n",
              "  </thead>\n",
              "  <tbody>\n",
              "    <tr>\n",
              "      <th>0</th>\n",
              "      <td>8001</td>\n",
              "      <td>The most common audits were about waste and re...</td>\n",
              "      <td>Message-Topic</td>\n",
              "      <td>9</td>\n",
              "    </tr>\n",
              "    <tr>\n",
              "      <th>2</th>\n",
              "      <td>8002</td>\n",
              "      <td>The company fabricates plastic chairs.</td>\n",
              "      <td>Product-Producer</td>\n",
              "      <td>2</td>\n",
              "    </tr>\n",
              "    <tr>\n",
              "      <th>4</th>\n",
              "      <td>8003</td>\n",
              "      <td>The school master teaches the lesson with a st...</td>\n",
              "      <td>Instrument-Agency</td>\n",
              "      <td>4</td>\n",
              "    </tr>\n",
              "    <tr>\n",
              "      <th>6</th>\n",
              "      <td>8004</td>\n",
              "      <td>The suspect dumped the dead body into a local ...</td>\n",
              "      <td>Entity-Destination</td>\n",
              "      <td>7</td>\n",
              "    </tr>\n",
              "    <tr>\n",
              "      <th>8</th>\n",
              "      <td>8005</td>\n",
              "      <td>Avian influenza is an infectious disease of bi...</td>\n",
              "      <td>Cause-Effect</td>\n",
              "      <td>1</td>\n",
              "    </tr>\n",
              "  </tbody>\n",
              "</table>\n",
              "</div>\n",
              "      <button class=\"colab-df-convert\" onclick=\"convertToInteractive('df-212621d2-8591-4431-bb0b-317f8d1dbc0a')\"\n",
              "              title=\"Convert this dataframe to an interactive table.\"\n",
              "              style=\"display:none;\">\n",
              "        \n",
              "  <svg xmlns=\"http://www.w3.org/2000/svg\" height=\"24px\"viewBox=\"0 0 24 24\"\n",
              "       width=\"24px\">\n",
              "    <path d=\"M0 0h24v24H0V0z\" fill=\"none\"/>\n",
              "    <path d=\"M18.56 5.44l.94 2.06.94-2.06 2.06-.94-2.06-.94-.94-2.06-.94 2.06-2.06.94zm-11 1L8.5 8.5l.94-2.06 2.06-.94-2.06-.94L8.5 2.5l-.94 2.06-2.06.94zm10 10l.94 2.06.94-2.06 2.06-.94-2.06-.94-.94-2.06-.94 2.06-2.06.94z\"/><path d=\"M17.41 7.96l-1.37-1.37c-.4-.4-.92-.59-1.43-.59-.52 0-1.04.2-1.43.59L10.3 9.45l-7.72 7.72c-.78.78-.78 2.05 0 2.83L4 21.41c.39.39.9.59 1.41.59.51 0 1.02-.2 1.41-.59l7.78-7.78 2.81-2.81c.8-.78.8-2.07 0-2.86zM5.41 20L4 18.59l7.72-7.72 1.47 1.35L5.41 20z\"/>\n",
              "  </svg>\n",
              "      </button>\n",
              "      \n",
              "  <style>\n",
              "    .colab-df-container {\n",
              "      display:flex;\n",
              "      flex-wrap:wrap;\n",
              "      gap: 12px;\n",
              "    }\n",
              "\n",
              "    .colab-df-convert {\n",
              "      background-color: #E8F0FE;\n",
              "      border: none;\n",
              "      border-radius: 50%;\n",
              "      cursor: pointer;\n",
              "      display: none;\n",
              "      fill: #1967D2;\n",
              "      height: 32px;\n",
              "      padding: 0 0 0 0;\n",
              "      width: 32px;\n",
              "    }\n",
              "\n",
              "    .colab-df-convert:hover {\n",
              "      background-color: #E2EBFA;\n",
              "      box-shadow: 0px 1px 2px rgba(60, 64, 67, 0.3), 0px 1px 3px 1px rgba(60, 64, 67, 0.15);\n",
              "      fill: #174EA6;\n",
              "    }\n",
              "\n",
              "    [theme=dark] .colab-df-convert {\n",
              "      background-color: #3B4455;\n",
              "      fill: #D2E3FC;\n",
              "    }\n",
              "\n",
              "    [theme=dark] .colab-df-convert:hover {\n",
              "      background-color: #434B5C;\n",
              "      box-shadow: 0px 1px 3px 1px rgba(0, 0, 0, 0.15);\n",
              "      filter: drop-shadow(0px 1px 2px rgba(0, 0, 0, 0.3));\n",
              "      fill: #FFFFFF;\n",
              "    }\n",
              "  </style>\n",
              "\n",
              "      <script>\n",
              "        const buttonEl =\n",
              "          document.querySelector('#df-212621d2-8591-4431-bb0b-317f8d1dbc0a button.colab-df-convert');\n",
              "        buttonEl.style.display =\n",
              "          google.colab.kernel.accessAllowed ? 'block' : 'none';\n",
              "\n",
              "        async function convertToInteractive(key) {\n",
              "          const element = document.querySelector('#df-212621d2-8591-4431-bb0b-317f8d1dbc0a');\n",
              "          const dataTable =\n",
              "            await google.colab.kernel.invokeFunction('convertToInteractive',\n",
              "                                                     [key], {});\n",
              "          if (!dataTable) return;\n",
              "\n",
              "          const docLinkHtml = 'Like what you see? Visit the ' +\n",
              "            '<a target=\"_blank\" href=https://colab.research.google.com/notebooks/data_table.ipynb>data table notebook</a>'\n",
              "            + ' to learn more about interactive tables.';\n",
              "          element.innerHTML = '';\n",
              "          dataTable['output_type'] = 'display_data';\n",
              "          await google.colab.output.renderOutput(dataTable, element);\n",
              "          const docLink = document.createElement('div');\n",
              "          docLink.innerHTML = docLinkHtml;\n",
              "          element.appendChild(docLink);\n",
              "        }\n",
              "      </script>\n",
              "    </div>\n",
              "  </div>\n",
              "  "
            ]
          },
          "metadata": {},
          "execution_count": 66
        }
      ],
      "source": [
        "df_test = prepare_file('semeval2010task8_test.txt','test')\n",
        "\n",
        "df_test.head(5)"
      ]
    },
    {
      "cell_type": "markdown",
      "metadata": {
        "id": "E2jg4ZDNfZo_"
      },
      "source": [
        "## Step 2: training models"
      ]
    },
    {
      "cell_type": "code",
      "execution_count": 67,
      "metadata": {
        "id": "jkhhb0s7fZpA",
        "scrolled": true
      },
      "outputs": [],
      "source": [
        "# use the TF-IDF vectorizer and create a pipeline that attaches it to a multinomial naive Bayes classifier\n",
        "from sklearn.feature_extraction.text import TfidfVectorizer    #Convert a collection of raw documents to a matrix of TF-IDF features\n",
        "from sklearn.naive_bayes import MultinomialNB                  #multinomial Naive Bayes classifier is suitable for classification with discrete features\n",
        "from sklearn.pipeline import make_pipeline                     #Construct a Pipeline from the given estimators\n",
        "\n",
        "#show data\n",
        "import seaborn as sns; sns.set()                               #data visualization library based on matplotlib\n",
        "import matplotlib.pyplot as plt                                #interactive plots \n",
        "from sklearn.metrics import confusion_matrix                   #Compute confusion matrix to evaluate the accuracy of a classification"
      ]
    },
    {
      "cell_type": "markdown",
      "metadata": {
        "id": "Bq4oXwAZfZpA"
      },
      "source": [
        "### Train model 1: Multinomial Naive Bayes (standard parameters)"
      ]
    },
    {
      "cell_type": "code",
      "execution_count": 68,
      "metadata": {
        "id": "vsfRjBmdfZpA"
      },
      "outputs": [],
      "source": [
        "model = make_pipeline(TfidfVectorizer(), MultinomialNB())"
      ]
    },
    {
      "cell_type": "code",
      "execution_count": 69,
      "metadata": {
        "id": "kxVYYObhfZpA"
      },
      "outputs": [],
      "source": [
        "#TO READ: https://jakevdp.github.io/PythonDataScienceHandbook/05.04-feature-engineering.html"
      ]
    },
    {
      "cell_type": "code",
      "execution_count": 70,
      "metadata": {
        "id": "VBCbp-affZpB",
        "scrolled": true
      },
      "outputs": [],
      "source": [
        "#With this pipeline, we can apply the model to the training data, and predict labels for the test data\n",
        "model.fit(train_data, train_target)\n",
        "labels = model.predict(test_data)"
      ]
    },
    {
      "cell_type": "code",
      "execution_count": 71,
      "metadata": {
        "id": "lFHr0UIyfZpB",
        "outputId": "82986b19-9a09-456a-8905-49043c326e6a",
        "colab": {
          "base_uri": "https://localhost:8080/",
          "height": 418
        }
      },
      "outputs": [
        {
          "output_type": "execute_result",
          "data": {
            "text/plain": [
              "<Figure size 4800x4800 with 0 Axes>"
            ]
          },
          "metadata": {},
          "execution_count": 71
        },
        {
          "output_type": "display_data",
          "data": {
            "text/plain": [
              "<Figure size 432x288 with 1 Axes>"
            ],
            "image/png": "[encoded data removed]"
          },
          "metadata": {}
        },
        {
          "output_type": "display_data",
          "data": {
            "text/plain": [
              "<Figure size 4800x4800 with 0 Axes>"
            ]
          },
          "metadata": {}
        }
      ],
      "source": [
        "#evaluate the performance of the estimator with confusion matrix between the true and predicted labels for the test data\n",
        "plt.rcParams['font.size'] = '26'\n",
        "mat = confusion_matrix(test_target, labels)\n",
        "sns.heatmap(mat.T, square=True, annot=True, fmt='d', cbar=False, xticklabels=keys, yticklabels=keys)\n",
        "\n",
        "plt.xlabel('true label')\n",
        "plt.ylabel('predicted label')\n",
        "\n",
        "from matplotlib.pyplot import figure\n",
        "figure(figsize=(6, 6), dpi=800)"
      ]
    },
    {
      "cell_type": "code",
      "execution_count": 72,
      "metadata": {
        "id": "jCDGV1xefZpB",
        "outputId": "6fc1a698-8e80-482b-ef9e-638b7c1911a1",
        "colab": {
          "base_uri": "https://localhost:8080/"
        }
      },
      "outputs": [
        {
          "output_type": "stream",
          "name": "stdout",
          "text": [
            "Multinomial Naive Bayes Model Accuracy = 34.560176665439826 %\n"
          ]
        }
      ],
      "source": [
        "accuracy_for_test_keys = np.mean(labels == test_target)\n",
        "print(\"Multinomial Naive Bayes Model Accuracy = {} %\".format(accuracy_for_test_keys*100))"
      ]
    },
    {
      "cell_type": "code",
      "execution_count": 73,
      "metadata": {
        "id": "q_9IWlDafZpC"
      },
      "outputs": [],
      "source": [
        "def predict_category(s, train=keys, model=model):\n",
        "    pred = model.predict([s])\n",
        "    return train[pred[0]]"
      ]
    },
    {
      "cell_type": "code",
      "execution_count": 74,
      "metadata": {
        "id": "iPhc1qevfZpC"
      },
      "outputs": [],
      "source": [
        "df_test['Calculated_Clasification_ID'] = labels"
      ]
    },
    {
      "cell_type": "code",
      "execution_count": 75,
      "metadata": {
        "id": "NYPE3gYGfZpC"
      },
      "outputs": [],
      "source": [
        "df_test['Calculated_Clasification'] = df_test.Calculated_Clasification_ID.map(lambda x: keys[x])"
      ]
    },
    {
      "cell_type": "code",
      "execution_count": 76,
      "metadata": {
        "id": "AggqXeUcfZpC",
        "outputId": "9e4ac380-70d0-4608-c87f-5a6e5de77059",
        "colab": {
          "base_uri": "https://localhost:8080/",
          "height": 363
        }
      },
      "outputs": [
        {
          "output_type": "execute_result",
          "data": {
            "text/plain": [
              "      ID                                               Text  \\\n",
              "0   8001  The most common audits were about waste and re...   \n",
              "2   8002             The company fabricates plastic chairs.   \n",
              "4   8003  The school master teaches the lesson with a st...   \n",
              "6   8004  The suspect dumped the dead body into a local ...   \n",
              "8   8005  Avian influenza is an infectious disease of bi...   \n",
              "10  8006  The ear of the African elephant is significant...   \n",
              "12  8007  A child is told a lie for several years by the...   \n",
              "14  8008  Skype, a free software, allows a hookup of mul...   \n",
              "16  8009  The disgusting scene was retaliation against h...   \n",
              "18  8010  This thesis defines the clinical characteristi...   \n",
              "\n",
              "         Clasification  Clasification_ID  Calculated_Clasification_ID  \\\n",
              "0        Message-Topic                 9                            1   \n",
              "2     Product-Producer                 2                            0   \n",
              "4    Instrument-Agency                 4                            0   \n",
              "6   Entity-Destination                 7                            7   \n",
              "8         Cause-Effect                 1                            1   \n",
              "10     Component-Whole                 5                            0   \n",
              "12    Product-Producer                 2                            0   \n",
              "14   Member-Collection                 8                            0   \n",
              "16     Component-Whole                 5                            0   \n",
              "18       Message-Topic                 9                            0   \n",
              "\n",
              "   Calculated_Clasification  \n",
              "0              Cause-Effect  \n",
              "2                     Other  \n",
              "4                     Other  \n",
              "6        Entity-Destination  \n",
              "8              Cause-Effect  \n",
              "10                    Other  \n",
              "12                    Other  \n",
              "14                    Other  \n",
              "16                    Other  \n",
              "18                    Other  "
            ],
            "text/html": [
              "\n",
              "  <div id=\"df-78e3dfc3-7c21-4b81-9a89-e2cfc546a483\">\n",
              "    <div class=\"colab-df-container\">\n",
              "      <div>\n",
              "<style scoped>\n",
              "    .dataframe tbody tr th:only-of-type {\n",
              "        vertical-align: middle;\n",
              "    }\n",
              "\n",
              "    .dataframe tbody tr th {\n",
              "        vertical-align: top;\n",
              "    }\n",
              "\n",
              "    .dataframe thead th {\n",
              "        text-align: right;\n",
              "    }\n",
              "</style>\n",
              "<table border=\"1\" class=\"dataframe\">\n",
              "  <thead>\n",
              "    <tr style=\"text-align: right;\">\n",
              "      <th></th>\n",
              "      <th>ID</th>\n",
              "      <th>Text</th>\n",
              "      <th>Clasification</th>\n",
              "      <th>Clasification_ID</th>\n",
              "      <th>Calculated_Clasification_ID</th>\n",
              "      <th>Calculated_Clasification</th>\n",
              "    </tr>\n",
              "  </thead>\n",
              "  <tbody>\n",
              "    <tr>\n",
              "      <th>0</th>\n",
              "      <td>8001</td>\n",
              "      <td>The most common audits were about waste and re...</td>\n",
              "      <td>Message-Topic</td>\n",
              "      <td>9</td>\n",
              "      <td>1</td>\n",
              "      <td>Cause-Effect</td>\n",
              "    </tr>\n",
              "    <tr>\n",
              "      <th>2</th>\n",
              "      <td>8002</td>\n",
              "      <td>The company fabricates plastic chairs.</td>\n",
              "      <td>Product-Producer</td>\n",
              "      <td>2</td>\n",
              "      <td>0</td>\n",
              "      <td>Other</td>\n",
              "    </tr>\n",
              "    <tr>\n",
              "      <th>4</th>\n",
              "      <td>8003</td>\n",
              "      <td>The school master teaches the lesson with a st...</td>\n",
              "      <td>Instrument-Agency</td>\n",
              "      <td>4</td>\n",
              "      <td>0</td>\n",
              "      <td>Other</td>\n",
              "    </tr>\n",
              "    <tr>\n",
              "      <th>6</th>\n",
              "      <td>8004</td>\n",
              "      <td>The suspect dumped the dead body into a local ...</td>\n",
              "      <td>Entity-Destination</td>\n",
              "      <td>7</td>\n",
              "      <td>7</td>\n",
              "      <td>Entity-Destination</td>\n",
              "    </tr>\n",
              "    <tr>\n",
              "      <th>8</th>\n",
              "      <td>8005</td>\n",
              "      <td>Avian influenza is an infectious disease of bi...</td>\n",
              "      <td>Cause-Effect</td>\n",
              "      <td>1</td>\n",
              "      <td>1</td>\n",
              "      <td>Cause-Effect</td>\n",
              "    </tr>\n",
              "    <tr>\n",
              "      <th>10</th>\n",
              "      <td>8006</td>\n",
              "      <td>The ear of the African elephant is significant...</td>\n",
              "      <td>Component-Whole</td>\n",
              "      <td>5</td>\n",
              "      <td>0</td>\n",
              "      <td>Other</td>\n",
              "    </tr>\n",
              "    <tr>\n",
              "      <th>12</th>\n",
              "      <td>8007</td>\n",
              "      <td>A child is told a lie for several years by the...</td>\n",
              "      <td>Product-Producer</td>\n",
              "      <td>2</td>\n",
              "      <td>0</td>\n",
              "      <td>Other</td>\n",
              "    </tr>\n",
              "    <tr>\n",
              "      <th>14</th>\n",
              "      <td>8008</td>\n",
              "      <td>Skype, a free software, allows a hookup of mul...</td>\n",
              "      <td>Member-Collection</td>\n",
              "      <td>8</td>\n",
              "      <td>0</td>\n",
              "      <td>Other</td>\n",
              "    </tr>\n",
              "    <tr>\n",
              "      <th>16</th>\n",
              "      <td>8009</td>\n",
              "      <td>The disgusting scene was retaliation against h...</td>\n",
              "      <td>Component-Whole</td>\n",
              "      <td>5</td>\n",
              "      <td>0</td>\n",
              "      <td>Other</td>\n",
              "    </tr>\n",
              "    <tr>\n",
              "      <th>18</th>\n",
              "      <td>8010</td>\n",
              "      <td>This thesis defines the clinical characteristi...</td>\n",
              "      <td>Message-Topic</td>\n",
              "      <td>9</td>\n",
              "      <td>0</td>\n",
              "      <td>Other</td>\n",
              "    </tr>\n",
              "  </tbody>\n",
              "</table>\n",
              "</div>\n",
              "      <button class=\"colab-df-convert\" onclick=\"convertToInteractive('df-78e3dfc3-7c21-4b81-9a89-e2cfc546a483')\"\n",
              "              title=\"Convert this dataframe to an interactive table.\"\n",
              "              style=\"display:none;\">\n",
              "        \n",
              "  <svg xmlns=\"http://www.w3.org/2000/svg\" height=\"24px\"viewBox=\"0 0 24 24\"\n",
              "       width=\"24px\">\n",
              "    <path d=\"M0 0h24v24H0V0z\" fill=\"none\"/>\n",
              "    <path d=\"M18.56 5.44l.94 2.06.94-2.06 2.06-.94-2.06-.94-.94-2.06-.94 2.06-2.06.94zm-11 1L8.5 8.5l.94-2.06 2.06-.94-2.06-.94L8.5 2.5l-.94 2.06-2.06.94zm10 10l.94 2.06.94-2.06 2.06-.94-2.06-.94-.94-2.06-.94 2.06-2.06.94z\"/><path d=\"M17.41 7.96l-1.37-1.37c-.4-.4-.92-.59-1.43-.59-.52 0-1.04.2-1.43.59L10.3 9.45l-7.72 7.72c-.78.78-.78 2.05 0 2.83L4 21.41c.39.39.9.59 1.41.59.51 0 1.02-.2 1.41-.59l7.78-7.78 2.81-2.81c.8-.78.8-2.07 0-2.86zM5.41 20L4 18.59l7.72-7.72 1.47 1.35L5.41 20z\"/>\n",
              "  </svg>\n",
              "      </button>\n",
              "      \n",
              "  <style>\n",
              "    .colab-df-container {\n",
              "      display:flex;\n",
              "      flex-wrap:wrap;\n",
              "      gap: 12px;\n",
              "    }\n",
              "\n",
              "    .colab-df-convert {\n",
              "      background-color: #E8F0FE;\n",
              "      border: none;\n",
              "      border-radius: 50%;\n",
              "      cursor: pointer;\n",
              "      display: none;\n",
              "      fill: #1967D2;\n",
              "      height: 32px;\n",
              "      padding: 0 0 0 0;\n",
              "      width: 32px;\n",
              "    }\n",
              "\n",
              "    .colab-df-convert:hover {\n",
              "      background-color: #E2EBFA;\n",
              "      box-shadow: 0px 1px 2px rgba(60, 64, 67, 0.3), 0px 1px 3px 1px rgba(60, 64, 67, 0.15);\n",
              "      fill: #174EA6;\n",
              "    }\n",
              "\n",
              "    [theme=dark] .colab-df-convert {\n",
              "      background-color: #3B4455;\n",
              "      fill: #D2E3FC;\n",
              "    }\n",
              "\n",
              "    [theme=dark] .colab-df-convert:hover {\n",
              "      background-color: #434B5C;\n",
              "      box-shadow: 0px 1px 3px 1px rgba(0, 0, 0, 0.15);\n",
              "      filter: drop-shadow(0px 1px 2px rgba(0, 0, 0, 0.3));\n",
              "      fill: #FFFFFF;\n",
              "    }\n",
              "  </style>\n",
              "\n",
              "      <script>\n",
              "        const buttonEl =\n",
              "          document.querySelector('#df-78e3dfc3-7c21-4b81-9a89-e2cfc546a483 button.colab-df-convert');\n",
              "        buttonEl.style.display =\n",
              "          google.colab.kernel.accessAllowed ? 'block' : 'none';\n",
              "\n",
              "        async function convertToInteractive(key) {\n",
              "          const element = document.querySelector('#df-78e3dfc3-7c21-4b81-9a89-e2cfc546a483');\n",
              "          const dataTable =\n",
              "            await google.colab.kernel.invokeFunction('convertToInteractive',\n",
              "                                                     [key], {});\n",
              "          if (!dataTable) return;\n",
              "\n",
              "          const docLinkHtml = 'Like what you see? Visit the ' +\n",
              "            '<a target=\"_blank\" href=https://colab.research.google.com/notebooks/data_table.ipynb>data table notebook</a>'\n",
              "            + ' to learn more about interactive tables.';\n",
              "          element.innerHTML = '';\n",
              "          dataTable['output_type'] = 'display_data';\n",
              "          await google.colab.output.renderOutput(dataTable, element);\n",
              "          const docLink = document.createElement('div');\n",
              "          docLink.innerHTML = docLinkHtml;\n",
              "          element.appendChild(docLink);\n",
              "        }\n",
              "      </script>\n",
              "    </div>\n",
              "  </div>\n",
              "  "
            ]
          },
          "metadata": {},
          "execution_count": 76
        }
      ],
      "source": [
        "df_test.head(10)"
      ]
    },
    {
      "cell_type": "markdown",
      "metadata": {
        "id": "C2gYOBivfZpC"
      },
      "source": [
        "### Train model 2: Multinomial Naive Bayes (optimized parameters)"
      ]
    },
    {
      "cell_type": "code",
      "execution_count": 77,
      "metadata": {
        "id": "LGiBx__5fZpD"
      },
      "outputs": [],
      "source": [
        "#https://holypython.com/nbc/naive-bayes-classifier-optimization-parameters/\n",
        "\n",
        "#https://www.geeksforgeeks.org/using-countvectorizer-to-extracting-features-from-text/\n",
        "#model1 = make_pipeline(CountVectorizer(ngram_range=(1,3)), TfidfVectorizer(), MultinomialNB())"
      ]
    },
    {
      "cell_type": "code",
      "execution_count": 78,
      "metadata": {
        "id": "wpakMA9yfZpD"
      },
      "outputs": [],
      "source": [
        "from sklearn.feature_extraction.text import TfidfTransformer\n",
        "from sklearn.pipeline import Pipeline\n",
        "from sklearn.feature_extraction.text import CountVectorizer\n"
      ]
    },
    {
      "cell_type": "code",
      "execution_count": 79,
      "metadata": {
        "id": "rs3nqOYzfZpD",
        "outputId": "4299f14c-1d17-40de-a00e-9fc9ae1b8669",
        "colab": {
          "base_uri": "https://localhost:8080/"
        }
      },
      "outputs": [
        {
          "output_type": "stream",
          "name": "stdout",
          "text": [
            "Multinomial Naive Bayes Model Accuracy = 60.50791313949209 %\n"
          ]
        }
      ],
      "source": [
        "#Tokenizing text with scikit-learn we used CountVectorizer\n",
        "count_vector = CountVectorizer()\n",
        "train_counts = count_vector.fit_transform(train_data)\n",
        "\n",
        "# Term Frequencies are calculated which has to be use_idf=True \n",
        "tf_transformer = TfidfTransformer(use_idf=True).fit(train_counts)\n",
        "tf_train = tf_transformer.transform(train_counts)\n",
        "\n",
        "#Term Frequency times Inverse Document Frequency to skipping redundant processing\n",
        "tf_idf_transformer = TfidfTransformer()\n",
        "tf_idf_train = tf_idf_transformer.fit_transform(train_counts)\n",
        "\n",
        "#Training a classifier \n",
        "# Now we took Naive Bayes classifier which provides a nice baseline for this task\n",
        "# We used the Multinomial Naive Bayes\n",
        "#print (tf_idf_train)\n",
        "#print (train_target)\n",
        "multi_nb = MultinomialNB().fit(tf_idf_train, train_target)\n",
        "\n",
        "# Combing the all CountVectorizer,TfidfTransformer,MultinomialNB with alpha value 0.01\n",
        "#ngram_range The lower and upper boundary of the range of n-values is 1 and 3\n",
        "text_classification = Pipeline([('vectorizer', CountVectorizer(ngram_range=(1,3))),\n",
        "    ('tfidftransformer', TfidfTransformer(use_idf=True)),\n",
        "    ('classification', MultinomialNB(alpha=0.01)),])\n",
        "text_classification = text_classification.fit(train_data, train_target)\n",
        "predicted = text_classification.predict(test_data)\n",
        "\n",
        "# Naive Bayes predicted values is saving to csv file\n",
        "np.savetxt(\"naive_bayes_predicted.csv\", predicted, delimiter=\",\")\n",
        "\n",
        "accuracy_for_test_keys = np.mean(predicted == test_target)\n",
        "print(\"Multinomial Naive Bayes Model Accuracy = {} %\".format(accuracy_for_test_keys*100))"
      ]
    },
    {
      "cell_type": "code",
      "source": [
        "#evaluate the performance of the estimator with confusion matrix between the true and predicted labels for the test data\n",
        "plt.rcParams['font.size'] = '26'\n",
        "mat = confusion_matrix(test_target, predicted)\n",
        "sns.heatmap(mat.T, square=True, annot=True, fmt='d', cbar=False, xticklabels=keys, yticklabels=keys)\n",
        "\n",
        "plt.xlabel('true label')\n",
        "plt.ylabel('predicted label')\n",
        "\n",
        "from matplotlib.pyplot import figure\n",
        "figure(figsize=(6, 6), dpi=800)"
      ],
      "metadata": {
        "id": "8KVRsN7PXWlF",
        "outputId": "0573b58f-6819-4d1b-dfe7-81019f5ef994",
        "colab": {
          "base_uri": "https://localhost:8080/",
          "height": 418
        }
      },
      "execution_count": 80,
      "outputs": [
        {
          "output_type": "execute_result",
          "data": {
            "text/plain": [
              "<Figure size 4800x4800 with 0 Axes>"
            ]
          },
          "metadata": {},
          "execution_count": 80
        },
        {
          "output_type": "display_data",
          "data": {
            "text/plain": [
              "<Figure size 432x288 with 1 Axes>"
            ],
            "image/png": "[encoded data removed]"
          },
          "metadata": {}
        },
        {
          "output_type": "display_data",
          "data": {
            "text/plain": [
              "<Figure size 4800x4800 with 0 Axes>"
            ]
          },
          "metadata": {}
        }
      ]
    },
    {
      "cell_type": "markdown",
      "metadata": {
        "id": "D_Nj0hdRfZpD"
      },
      "source": [
        "### Train model 3: Support Vector Machine"
      ]
    },
    {
      "cell_type": "code",
      "execution_count": 81,
      "metadata": {
        "id": "AbupwXZffZpE"
      },
      "outputs": [],
      "source": [
        "from sklearn.linear_model import SGDClassifier     #Linear classifiers (SVM, logistic regression, a.o.) with SGD training.\n",
        "from sklearn.model_selection import GridSearchCV   #Exhaustive search over specified parameter values for an estimator. Important members are fit, predict."
      ]
    },
    {
      "cell_type": "code",
      "execution_count": null,
      "metadata": {
        "id": "_SmkbbxQfZpE",
        "scrolled": true
      },
      "outputs": [],
      "source": [
        "# We are now implementing the Support Vector Machine \n",
        "parameters = {'vectorizer__ngram_range': [(1, 3), (1, 3)],'tfidftransformer__use_idf': (True, False),\n",
        "'classification__alpha': (1e-2, 1e-3),'vectorizer__stop_words':('english',None)}\n",
        "\n",
        "gs_clf = GridSearchCV(text_classification, parameters, n_jobs=-1)\n",
        "gs_clf = gs_clf.fit(train_data, train_target)\n",
        "\n",
        "text_classification = Pipeline([('vectorizer', CountVectorizer(ngram_range=(1,3))),\n",
        "    ('tfidftransformer', TfidfTransformer(use_idf=True)),\n",
        "    ('classification', SGDClassifier(loss='squared_hinge',\n",
        "     penalty='l2',alpha=2*1e-4, n_iter_no_change=800, random_state=100,eta0=0.0009)),])\n",
        "\n",
        "roop = text_classification.fit(train_data, train_target)\n",
        "svm_prediction = text_classification.predict(test_data)\n",
        "\n",
        "#Support vector machine predicted values is saving to csv file\n",
        "np.savetxt(\"svm.csv\", svm_prediction, delimiter=\",\")\n",
        "\n",
        "svm_accuracy = np.mean(svm_prediction == test_target)\n",
        "print(\"Support Vector Machine Model Accuracy={} %\".format(svm_accuracy*100))\n"
      ]
    },
    {
      "cell_type": "code",
      "execution_count": null,
      "metadata": {
        "id": "ASlv-HGYfZpE"
      },
      "outputs": [],
      "source": []
    }
  ],
  "metadata": {
    "colab": {
      "name": "Sem-Eval 2010 Task8.ipynb",
      "provenance": [],
      "include_colab_link": true
    },
    "kernelspec": {
      "display_name": "Python 3.10.6 64-bit (windows store)",
      "language": "python",
      "name": "python3"
    },
    "language_info": {
      "codemirror_mode": {
        "name": "ipython",
        "version": 3
      },
      "file_extension": ".py",
      "mimetype": "text/x-python",
      "name": "python",
      "nbconvert_exporter": "python",
      "pygments_lexer": "ipython3",
      "version": "3.10.6"
    },
    "vscode": {
      "interpreter": {
        "hash": "6d37efe8b5696e020ff20f03281d74432cd5b58f0d8f4efefd34ea302a90c8b3"
      }
    }
  },
  "nbformat": 4,
  "nbformat_minor": 0
}